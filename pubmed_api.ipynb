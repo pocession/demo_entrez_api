{
 "cells": [
  {
   "cell_type": "code",
   "execution_count": 141,
   "metadata": {},
   "outputs": [
    {
     "data": {
      "text/plain": [
       "['31371226',\n",
       " '31341902',\n",
       " '31331391',\n",
       " '31316629',\n",
       " '31316513',\n",
       " '31310707',\n",
       " '31297009',\n",
       " '31277476',\n",
       " '31262519',\n",
       " '31260744']"
      ]
     },
     "execution_count": 141,
     "metadata": {},
     "output_type": "execute_result"
    }
   ],
   "source": [
    "# Read UIDs of articles from csv file\n",
    "UID_list = []\n",
    "\n",
    "import csv\n",
    "with open ('output.csv','r') as file:\n",
    "    reader = csv.reader(file)\n",
    "    for row in reader:\n",
    "        for item in row:\n",
    "            item = item.strip('\\n')\n",
    "            UID_list.append(item)\n",
    "\n",
    "# Pick up the frist ten UIDs for test            \n",
    "UID_list[:10]"
   ]
  },
  {
   "cell_type": "code",
   "execution_count": 142,
   "metadata": {},
   "outputs": [
    {
     "name": "stdout",
     "output_type": "stream",
     "text": [
      "https://eutils.ncbi.nlm.nih.gov/entrez/eutils/efetch.fcgi?db=pubmed&id=31371226,31341902,31331391,31316629,31316513,31310707,31297009,31277476,31262519,31260744&WebEnv=$Webenv&usehistory=y&retmode=xml\n",
      "done\n"
     ]
    }
   ],
   "source": [
    "# Link UIDs of articles to title, abstract ... \n",
    "# Import modulus required for sending http requests to NCBI server\n",
    "import requests\n",
    "\n",
    "db = 'pubmed';\n",
    "seperator = ',';\n",
    "id_list = seperator.join(UID_list[:10])\n",
    "\n",
    "\n",
    "# Assemble the esearch URL\n",
    "base = 'https://eutils.ncbi.nlm.nih.gov/entrez/eutils/';\n",
    "url = base + \"efetch.fcgi?db=\"+db+\"&id=\"+id_list+\"&WebEnv=$Webenv&usehistory=y\"+\"&retmode=xml\";\n",
    "print(url)\n",
    "\n",
    "req = requests.get(url)\n",
    "response = req.text\n",
    "print('done')\n",
    "\n",
    "# Load ET module to parse the xml\n",
    "import xml.etree.ElementTree as ET \n",
    "\n",
    "# Concatenate all information in a string and use ET module to process it\n",
    "\n",
    "root = ET.fromstring(response)"
   ]
  },
  {
   "cell_type": "code",
   "execution_count": 143,
   "metadata": {},
   "outputs": [
    {
     "data": {
      "text/plain": [
       "'PubmedArticleSet'"
      ]
     },
     "execution_count": 143,
     "metadata": {},
     "output_type": "execute_result"
    }
   ],
   "source": [
    "root.tag"
   ]
  },
  {
   "cell_type": "code",
   "execution_count": 144,
   "metadata": {},
   "outputs": [
    {
     "name": "stdout",
     "output_type": "stream",
     "text": [
      "PubmedArticle {}\n",
      "MedlineCitation {'Status': 'Publisher', 'Owner': 'NLM'}\n",
      "PubmedData {}\n",
      "PubmedArticle {}\n",
      "MedlineCitation {'Status': 'In-Process', 'Owner': 'NLM'}\n",
      "PubmedData {}\n",
      "PubmedArticle {}\n",
      "MedlineCitation {'Status': 'In-Data-Review', 'Owner': 'NLM'}\n",
      "PubmedData {}\n",
      "PubmedArticle {}\n",
      "MedlineCitation {'Status': 'PubMed-not-MEDLINE', 'Owner': 'NLM'}\n",
      "PubmedData {}\n",
      "PubmedArticle {}\n",
      "MedlineCitation {'Status': 'In-Data-Review', 'Owner': 'NLM'}\n",
      "PubmedData {}\n",
      "PubmedArticle {}\n",
      "MedlineCitation {'Status': 'Publisher', 'Owner': 'NLM'}\n",
      "PubmedData {}\n",
      "PubmedArticle {}\n",
      "MedlineCitation {'Status': 'PubMed-not-MEDLINE', 'Owner': 'NLM'}\n",
      "PubmedData {}\n",
      "PubmedArticle {}\n",
      "MedlineCitation {'Status': 'In-Process', 'Owner': 'NLM'}\n",
      "PubmedData {}\n",
      "PubmedArticle {}\n",
      "MedlineCitation {'Status': 'Publisher', 'Owner': 'NLM'}\n",
      "PubmedData {}\n",
      "PubmedArticle {}\n",
      "MedlineCitation {'Status': 'In-Data-Review', 'Owner': 'NLM'}\n",
      "PubmedData {}\n"
     ]
    }
   ],
   "source": [
    "# Print all tags and attribs from the first and the second layer\n",
    "# Article information are stored in status of the second layer\n",
    "\n",
    "for child in root:\n",
    "    print(child.tag,child.attrib)\n",
    "    for subchild in child:\n",
    "        print(subchild.tag, subchild.attrib)"
   ]
  },
  {
   "cell_type": "code",
   "execution_count": 200,
   "metadata": {},
   "outputs": [
    {
     "name": "stdout",
     "output_type": "stream",
     "text": [
      "0 th, title =  Cricket paralysis virus internal ribosome entry site-derived RNA promotes conventional vaccine efficacy by enhancing a balanced Th1/Th2 response.\n",
      "1 th, title =  Shashen-Maidong Decoction-Mediated IFN-\n",
      "2 th, title =  The effects of human umbilical cord-derived mesenchymal stem cell transplantation on endometrial receptivity are associated with Th1/Th2 balance change and uNK cell expression of uterine in autoimmune premature ovarian failure mice.\n",
      "3 th, title =  Effect of dexmedetomidine combined with lumbar anesthesia on Th1/Th2 in maternal patients and neonates undergoing caesarean section.\n",
      "4 th, title =  None\n",
      "5 th, title =  Effect of moderate exercise under hypoxia on Th1/Th2 cytokine balance.\n",
      "6 th, title =  Magnolol exerts anti-asthmatic effects by regulating Janus kinase-signal transduction and activation of transcription and Notch signaling pathways and modulating Th1/Th2/Th17 cytokines in ovalbumin-sensitized asthmatic mice.\n",
      "7 th, title =  Advanced Glycation End Products of Bovine Serum Albumin Suppressed Th1/Th2 Cytokine but Enhanced Monocyte IL-6 Gene Expression via MAPK-ERK and MyD88 Transduced NF-κB p50 Signaling Pathways.\n",
      "8 th, title =  Immunomodulation of human CD19\n",
      "9 th, title =  Vitamin D deficiency during pregnancy affects the function of Th1/Th2 cells and methylation of IFN-γ gene in offspring rats.\n"
     ]
    }
   ],
   "source": [
    "# Use element.iter() to go all over the subchilds and find ArticleTitle\n",
    "\n",
    "i = 0\n",
    "for ArticleTitle in root.iter(tag = 'ArticleTitle'):\n",
    "    print(i,\"th, title = \",ArticleTitle.text)\n",
    "    i = i+1"
   ]
  },
  {
   "cell_type": "code",
   "execution_count": null,
   "metadata": {},
   "outputs": [],
   "source": []
  }
 ],
 "metadata": {
  "kernelspec": {
   "display_name": "Python 3",
   "language": "python",
   "name": "python3"
  },
  "language_info": {
   "codemirror_mode": {
    "name": "ipython",
    "version": 3
   },
   "file_extension": ".py",
   "mimetype": "text/x-python",
   "name": "python",
   "nbconvert_exporter": "python",
   "pygments_lexer": "ipython3",
   "version": "3.7.2"
  }
 },
 "nbformat": 4,
 "nbformat_minor": 2
}
