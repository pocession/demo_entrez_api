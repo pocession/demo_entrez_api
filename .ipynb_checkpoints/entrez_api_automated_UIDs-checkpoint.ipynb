{
 "cells": [
  {
   "cell_type": "code",
   "execution_count": 9,
   "metadata": {},
   "outputs": [
    {
     "name": "stdout",
     "output_type": "stream",
     "text": [
      "https://eutils.ncbi.nlm.nih.gov/entrez/eutils/esearch.fcgi?db=pubmed&term=$th1[ti]+AND+th2[ti]+AND+(\"2009/08/10\"[PDat]:\"2019/08/07\"[PDat])&WebEnv=$Webenv&usehistory=y\n",
      "done\n"
     ]
    }
   ],
   "source": [
    "# We can also use loop to automate the data retrieval process\n",
    "# In this case, we are using a loop to automatically retrieve UID of each article\n",
    "\n",
    "# Import modulus required for sending http requests to NCBI server\n",
    "import requests\n",
    "\n",
    "# Download PubMed records with both th1 and th2 in titles and were also published within recent 10 years.\n",
    "# like this: (th1[ti]) AND (th2[ti]) AND (\"2009/08/10\"[PDat] : \"2019/08/07\"[PDat])\n",
    "\n",
    "db = 'pubmed';\n",
    "query = 'th1[ti]+AND+th2[ti]+AND+(\"2009/08/10\"[PDat]:\"2019/08/07\"[PDat])';\n",
    "\n",
    "# Assemble the esearch URL\n",
    "base = 'https://eutils.ncbi.nlm.nih.gov/entrez/eutils/';\n",
    "url = base + \"esearch.fcgi?db=\"+db+\"&term=$\"+query+\"&WebEnv=$Webenv&usehistory=y\";\n",
    "print(url)\n",
    "\n",
    "# Send request to server\n",
    "# 'response' is our returned data\n",
    "# When we send a request, each time the NCBI server will return us a data in xml format \n",
    "# The returned data contains information of 20 articles\n",
    "# We can get information of the first 20 articles first\n",
    "# If we need to get the next 20 articles, then we need to send a new quest (see below)\n",
    "req = requests.get(url)\n",
    "response = req.text\n",
    "print(\"done\")\n",
    "\n",
    "# Load ET module to parse the xml\n",
    "import xml.etree.ElementTree as ET \n",
    "\n",
    "# Concatenate all information in a string and use ET module to process it\n",
    "root = ET.fromstring(response)"
   ]
  },
  {
   "cell_type": "code",
   "execution_count": 10,
   "metadata": {},
   "outputs": [
    {
     "name": "stdout",
     "output_type": "stream",
     "text": [
      "Count {}\n",
      "RetMax {}\n",
      "RetStart {}\n",
      "QueryKey {}\n",
      "WebEnv {}\n",
      "IdList {}\n",
      "TranslationSet {}\n",
      "TranslationStack {}\n",
      "QueryTranslation {}\n"
     ]
    }
   ],
   "source": [
    "# Print all attrib (or all tags of levels)\n",
    "\n",
    "for child in root:\n",
    "    print(child.tag, child.attrib)"
   ]
  },
  {
   "cell_type": "code",
   "execution_count": 11,
   "metadata": {},
   "outputs": [
    {
     "data": {
      "text/plain": [
       "969"
      ]
     },
     "execution_count": 11,
     "metadata": {},
     "output_type": "execute_result"
    }
   ],
   "source": [
    "# Get some ideas about how many data we retrieved this time\n",
    "\n",
    "count = int(root[0].text)\n",
    "count"
   ]
  },
  {
   "cell_type": "code",
   "execution_count": 12,
   "metadata": {},
   "outputs": [
    {
     "name": "stdout",
     "output_type": "stream",
     "text": [
      "https://eutils.ncbi.nlm.nih.gov/entrez/eutils/esearch.fcgi?db=pubmed&term=$th1[ti]+AND+th2[ti]+AND+(\"2009/08/10\"[PDat]:\"2019/08/07\"[PDat])&WebEnv=$Webenv&usehistory=y&retstart=0&retmax=20\n",
      "https://eutils.ncbi.nlm.nih.gov/entrez/eutils/esearch.fcgi?db=pubmed&term=$th1[ti]+AND+th2[ti]+AND+(\"2009/08/10\"[PDat]:\"2019/08/07\"[PDat])&WebEnv=$Webenv&usehistory=y&retstart=20&retmax=20\n",
      "https://eutils.ncbi.nlm.nih.gov/entrez/eutils/esearch.fcgi?db=pubmed&term=$th1[ti]+AND+th2[ti]+AND+(\"2009/08/10\"[PDat]:\"2019/08/07\"[PDat])&WebEnv=$Webenv&usehistory=y&retstart=40&retmax=20\n",
      "https://eutils.ncbi.nlm.nih.gov/entrez/eutils/esearch.fcgi?db=pubmed&term=$th1[ti]+AND+th2[ti]+AND+(\"2009/08/10\"[PDat]:\"2019/08/07\"[PDat])&WebEnv=$Webenv&usehistory=y&retstart=60&retmax=20\n",
      "https://eutils.ncbi.nlm.nih.gov/entrez/eutils/esearch.fcgi?db=pubmed&term=$th1[ti]+AND+th2[ti]+AND+(\"2009/08/10\"[PDat]:\"2019/08/07\"[PDat])&WebEnv=$Webenv&usehistory=y&retstart=80&retmax=20\n",
      "https://eutils.ncbi.nlm.nih.gov/entrez/eutils/esearch.fcgi?db=pubmed&term=$th1[ti]+AND+th2[ti]+AND+(\"2009/08/10\"[PDat]:\"2019/08/07\"[PDat])&WebEnv=$Webenv&usehistory=y&retstart=100&retmax=20\n",
      "https://eutils.ncbi.nlm.nih.gov/entrez/eutils/esearch.fcgi?db=pubmed&term=$th1[ti]+AND+th2[ti]+AND+(\"2009/08/10\"[PDat]:\"2019/08/07\"[PDat])&WebEnv=$Webenv&usehistory=y&retstart=120&retmax=20\n",
      "https://eutils.ncbi.nlm.nih.gov/entrez/eutils/esearch.fcgi?db=pubmed&term=$th1[ti]+AND+th2[ti]+AND+(\"2009/08/10\"[PDat]:\"2019/08/07\"[PDat])&WebEnv=$Webenv&usehistory=y&retstart=140&retmax=20\n",
      "https://eutils.ncbi.nlm.nih.gov/entrez/eutils/esearch.fcgi?db=pubmed&term=$th1[ti]+AND+th2[ti]+AND+(\"2009/08/10\"[PDat]:\"2019/08/07\"[PDat])&WebEnv=$Webenv&usehistory=y&retstart=160&retmax=20\n",
      "https://eutils.ncbi.nlm.nih.gov/entrez/eutils/esearch.fcgi?db=pubmed&term=$th1[ti]+AND+th2[ti]+AND+(\"2009/08/10\"[PDat]:\"2019/08/07\"[PDat])&WebEnv=$Webenv&usehistory=y&retstart=180&retmax=20\n",
      "https://eutils.ncbi.nlm.nih.gov/entrez/eutils/esearch.fcgi?db=pubmed&term=$th1[ti]+AND+th2[ti]+AND+(\"2009/08/10\"[PDat]:\"2019/08/07\"[PDat])&WebEnv=$Webenv&usehistory=y&retstart=200&retmax=20\n",
      "https://eutils.ncbi.nlm.nih.gov/entrez/eutils/esearch.fcgi?db=pubmed&term=$th1[ti]+AND+th2[ti]+AND+(\"2009/08/10\"[PDat]:\"2019/08/07\"[PDat])&WebEnv=$Webenv&usehistory=y&retstart=220&retmax=20\n",
      "https://eutils.ncbi.nlm.nih.gov/entrez/eutils/esearch.fcgi?db=pubmed&term=$th1[ti]+AND+th2[ti]+AND+(\"2009/08/10\"[PDat]:\"2019/08/07\"[PDat])&WebEnv=$Webenv&usehistory=y&retstart=240&retmax=20\n",
      "https://eutils.ncbi.nlm.nih.gov/entrez/eutils/esearch.fcgi?db=pubmed&term=$th1[ti]+AND+th2[ti]+AND+(\"2009/08/10\"[PDat]:\"2019/08/07\"[PDat])&WebEnv=$Webenv&usehistory=y&retstart=260&retmax=20\n",
      "https://eutils.ncbi.nlm.nih.gov/entrez/eutils/esearch.fcgi?db=pubmed&term=$th1[ti]+AND+th2[ti]+AND+(\"2009/08/10\"[PDat]:\"2019/08/07\"[PDat])&WebEnv=$Webenv&usehistory=y&retstart=280&retmax=20\n",
      "https://eutils.ncbi.nlm.nih.gov/entrez/eutils/esearch.fcgi?db=pubmed&term=$th1[ti]+AND+th2[ti]+AND+(\"2009/08/10\"[PDat]:\"2019/08/07\"[PDat])&WebEnv=$Webenv&usehistory=y&retstart=300&retmax=20\n",
      "https://eutils.ncbi.nlm.nih.gov/entrez/eutils/esearch.fcgi?db=pubmed&term=$th1[ti]+AND+th2[ti]+AND+(\"2009/08/10\"[PDat]:\"2019/08/07\"[PDat])&WebEnv=$Webenv&usehistory=y&retstart=320&retmax=20\n",
      "https://eutils.ncbi.nlm.nih.gov/entrez/eutils/esearch.fcgi?db=pubmed&term=$th1[ti]+AND+th2[ti]+AND+(\"2009/08/10\"[PDat]:\"2019/08/07\"[PDat])&WebEnv=$Webenv&usehistory=y&retstart=340&retmax=20\n",
      "https://eutils.ncbi.nlm.nih.gov/entrez/eutils/esearch.fcgi?db=pubmed&term=$th1[ti]+AND+th2[ti]+AND+(\"2009/08/10\"[PDat]:\"2019/08/07\"[PDat])&WebEnv=$Webenv&usehistory=y&retstart=360&retmax=20\n",
      "https://eutils.ncbi.nlm.nih.gov/entrez/eutils/esearch.fcgi?db=pubmed&term=$th1[ti]+AND+th2[ti]+AND+(\"2009/08/10\"[PDat]:\"2019/08/07\"[PDat])&WebEnv=$Webenv&usehistory=y&retstart=380&retmax=20\n",
      "https://eutils.ncbi.nlm.nih.gov/entrez/eutils/esearch.fcgi?db=pubmed&term=$th1[ti]+AND+th2[ti]+AND+(\"2009/08/10\"[PDat]:\"2019/08/07\"[PDat])&WebEnv=$Webenv&usehistory=y&retstart=400&retmax=20\n",
      "https://eutils.ncbi.nlm.nih.gov/entrez/eutils/esearch.fcgi?db=pubmed&term=$th1[ti]+AND+th2[ti]+AND+(\"2009/08/10\"[PDat]:\"2019/08/07\"[PDat])&WebEnv=$Webenv&usehistory=y&retstart=420&retmax=20\n",
      "https://eutils.ncbi.nlm.nih.gov/entrez/eutils/esearch.fcgi?db=pubmed&term=$th1[ti]+AND+th2[ti]+AND+(\"2009/08/10\"[PDat]:\"2019/08/07\"[PDat])&WebEnv=$Webenv&usehistory=y&retstart=440&retmax=20\n",
      "https://eutils.ncbi.nlm.nih.gov/entrez/eutils/esearch.fcgi?db=pubmed&term=$th1[ti]+AND+th2[ti]+AND+(\"2009/08/10\"[PDat]:\"2019/08/07\"[PDat])&WebEnv=$Webenv&usehistory=y&retstart=460&retmax=20\n",
      "https://eutils.ncbi.nlm.nih.gov/entrez/eutils/esearch.fcgi?db=pubmed&term=$th1[ti]+AND+th2[ti]+AND+(\"2009/08/10\"[PDat]:\"2019/08/07\"[PDat])&WebEnv=$Webenv&usehistory=y&retstart=480&retmax=20\n",
      "https://eutils.ncbi.nlm.nih.gov/entrez/eutils/esearch.fcgi?db=pubmed&term=$th1[ti]+AND+th2[ti]+AND+(\"2009/08/10\"[PDat]:\"2019/08/07\"[PDat])&WebEnv=$Webenv&usehistory=y&retstart=500&retmax=20\n",
      "https://eutils.ncbi.nlm.nih.gov/entrez/eutils/esearch.fcgi?db=pubmed&term=$th1[ti]+AND+th2[ti]+AND+(\"2009/08/10\"[PDat]:\"2019/08/07\"[PDat])&WebEnv=$Webenv&usehistory=y&retstart=520&retmax=20\n",
      "https://eutils.ncbi.nlm.nih.gov/entrez/eutils/esearch.fcgi?db=pubmed&term=$th1[ti]+AND+th2[ti]+AND+(\"2009/08/10\"[PDat]:\"2019/08/07\"[PDat])&WebEnv=$Webenv&usehistory=y&retstart=540&retmax=20\n",
      "https://eutils.ncbi.nlm.nih.gov/entrez/eutils/esearch.fcgi?db=pubmed&term=$th1[ti]+AND+th2[ti]+AND+(\"2009/08/10\"[PDat]:\"2019/08/07\"[PDat])&WebEnv=$Webenv&usehistory=y&retstart=560&retmax=20\n",
      "https://eutils.ncbi.nlm.nih.gov/entrez/eutils/esearch.fcgi?db=pubmed&term=$th1[ti]+AND+th2[ti]+AND+(\"2009/08/10\"[PDat]:\"2019/08/07\"[PDat])&WebEnv=$Webenv&usehistory=y&retstart=580&retmax=20\n",
      "https://eutils.ncbi.nlm.nih.gov/entrez/eutils/esearch.fcgi?db=pubmed&term=$th1[ti]+AND+th2[ti]+AND+(\"2009/08/10\"[PDat]:\"2019/08/07\"[PDat])&WebEnv=$Webenv&usehistory=y&retstart=600&retmax=20\n",
      "https://eutils.ncbi.nlm.nih.gov/entrez/eutils/esearch.fcgi?db=pubmed&term=$th1[ti]+AND+th2[ti]+AND+(\"2009/08/10\"[PDat]:\"2019/08/07\"[PDat])&WebEnv=$Webenv&usehistory=y&retstart=620&retmax=20\n",
      "https://eutils.ncbi.nlm.nih.gov/entrez/eutils/esearch.fcgi?db=pubmed&term=$th1[ti]+AND+th2[ti]+AND+(\"2009/08/10\"[PDat]:\"2019/08/07\"[PDat])&WebEnv=$Webenv&usehistory=y&retstart=640&retmax=20\n",
      "https://eutils.ncbi.nlm.nih.gov/entrez/eutils/esearch.fcgi?db=pubmed&term=$th1[ti]+AND+th2[ti]+AND+(\"2009/08/10\"[PDat]:\"2019/08/07\"[PDat])&WebEnv=$Webenv&usehistory=y&retstart=660&retmax=20\n",
      "https://eutils.ncbi.nlm.nih.gov/entrez/eutils/esearch.fcgi?db=pubmed&term=$th1[ti]+AND+th2[ti]+AND+(\"2009/08/10\"[PDat]:\"2019/08/07\"[PDat])&WebEnv=$Webenv&usehistory=y&retstart=680&retmax=20\n",
      "https://eutils.ncbi.nlm.nih.gov/entrez/eutils/esearch.fcgi?db=pubmed&term=$th1[ti]+AND+th2[ti]+AND+(\"2009/08/10\"[PDat]:\"2019/08/07\"[PDat])&WebEnv=$Webenv&usehistory=y&retstart=700&retmax=20\n",
      "https://eutils.ncbi.nlm.nih.gov/entrez/eutils/esearch.fcgi?db=pubmed&term=$th1[ti]+AND+th2[ti]+AND+(\"2009/08/10\"[PDat]:\"2019/08/07\"[PDat])&WebEnv=$Webenv&usehistory=y&retstart=720&retmax=20\n",
      "https://eutils.ncbi.nlm.nih.gov/entrez/eutils/esearch.fcgi?db=pubmed&term=$th1[ti]+AND+th2[ti]+AND+(\"2009/08/10\"[PDat]:\"2019/08/07\"[PDat])&WebEnv=$Webenv&usehistory=y&retstart=740&retmax=20\n",
      "https://eutils.ncbi.nlm.nih.gov/entrez/eutils/esearch.fcgi?db=pubmed&term=$th1[ti]+AND+th2[ti]+AND+(\"2009/08/10\"[PDat]:\"2019/08/07\"[PDat])&WebEnv=$Webenv&usehistory=y&retstart=760&retmax=20\n",
      "https://eutils.ncbi.nlm.nih.gov/entrez/eutils/esearch.fcgi?db=pubmed&term=$th1[ti]+AND+th2[ti]+AND+(\"2009/08/10\"[PDat]:\"2019/08/07\"[PDat])&WebEnv=$Webenv&usehistory=y&retstart=780&retmax=20\n",
      "https://eutils.ncbi.nlm.nih.gov/entrez/eutils/esearch.fcgi?db=pubmed&term=$th1[ti]+AND+th2[ti]+AND+(\"2009/08/10\"[PDat]:\"2019/08/07\"[PDat])&WebEnv=$Webenv&usehistory=y&retstart=800&retmax=20\n",
      "https://eutils.ncbi.nlm.nih.gov/entrez/eutils/esearch.fcgi?db=pubmed&term=$th1[ti]+AND+th2[ti]+AND+(\"2009/08/10\"[PDat]:\"2019/08/07\"[PDat])&WebEnv=$Webenv&usehistory=y&retstart=820&retmax=20\n",
      "https://eutils.ncbi.nlm.nih.gov/entrez/eutils/esearch.fcgi?db=pubmed&term=$th1[ti]+AND+th2[ti]+AND+(\"2009/08/10\"[PDat]:\"2019/08/07\"[PDat])&WebEnv=$Webenv&usehistory=y&retstart=840&retmax=20\n",
      "https://eutils.ncbi.nlm.nih.gov/entrez/eutils/esearch.fcgi?db=pubmed&term=$th1[ti]+AND+th2[ti]+AND+(\"2009/08/10\"[PDat]:\"2019/08/07\"[PDat])&WebEnv=$Webenv&usehistory=y&retstart=860&retmax=20\n"
     ]
    },
    {
     "name": "stdout",
     "output_type": "stream",
     "text": [
      "https://eutils.ncbi.nlm.nih.gov/entrez/eutils/esearch.fcgi?db=pubmed&term=$th1[ti]+AND+th2[ti]+AND+(\"2009/08/10\"[PDat]:\"2019/08/07\"[PDat])&WebEnv=$Webenv&usehistory=y&retstart=880&retmax=20\n",
      "https://eutils.ncbi.nlm.nih.gov/entrez/eutils/esearch.fcgi?db=pubmed&term=$th1[ti]+AND+th2[ti]+AND+(\"2009/08/10\"[PDat]:\"2019/08/07\"[PDat])&WebEnv=$Webenv&usehistory=y&retstart=900&retmax=20\n",
      "https://eutils.ncbi.nlm.nih.gov/entrez/eutils/esearch.fcgi?db=pubmed&term=$th1[ti]+AND+th2[ti]+AND+(\"2009/08/10\"[PDat]:\"2019/08/07\"[PDat])&WebEnv=$Webenv&usehistory=y&retstart=920&retmax=20\n",
      "https://eutils.ncbi.nlm.nih.gov/entrez/eutils/esearch.fcgi?db=pubmed&term=$th1[ti]+AND+th2[ti]+AND+(\"2009/08/10\"[PDat]:\"2019/08/07\"[PDat])&WebEnv=$Webenv&usehistory=y&retstart=940&retmax=20\n",
      "done\n",
      "960\n",
      "https://eutils.ncbi.nlm.nih.gov/entrez/eutils/esearch.fcgi?db=pubmed&term=$th1[ti]+AND+th2[ti]+AND+(\"2009/08/10\"[PDat]:\"2019/08/07\"[PDat])&WebEnv=$Webenv&usehistory=y&retstart=949&retmax=20\n",
      "done\n"
     ]
    }
   ],
   "source": [
    "# Now this is the loop to automatically retrieve UID of each article and store them as in a list: UID_list\n",
    "\n",
    "# There are two loops in this function, the first loop, like we mentioned above, is to get a xml containing information of 20 articles\n",
    "# The second loop is to retrieve UIDs from this 20 articles and store them into a list ('UID_list')\n",
    "\n",
    "\n",
    "# Create an empty list to store all retrieved UIDs of articles\n",
    "UID_list = []\n",
    "\n",
    "# We also have to consider the last xml\n",
    "# In this case, we have total 969 articles, which means in the last xml, we only have 9 articles\n",
    "# Since our second loop is retrieving 20 data from each xml, there will be an \"out-of-range\" error throwed\n",
    "# So we have add some codes to check how many articles in the last xml and append them into the UID_list\n",
    "\n",
    "if count % 20 == 0:\n",
    "    for k in range(0, count, 20):\n",
    "        k = str(k)\n",
    "        url_next_page = url + \"&retstart=\"+k+\"&retmax=20\";\n",
    "        req2 = requests.post(url_next_page)\n",
    "        print(url_next_page)\n",
    "        response2 = req2.text\n",
    "        root2 = ET.fromstring(response2)\n",
    "        for i in range(20):\n",
    "            UID_list.append(root2[5][i].text.strip())\n",
    "    print(\"done\")\n",
    "    print(len(UID_list))\n",
    "else:\n",
    "    for k in range(0, count - 20, 20):\n",
    "        k = str(k)\n",
    "        url_next_page = url + \"&retstart=\"+k+\"&retmax=20\";\n",
    "        req2 = requests.post(url_next_page)\n",
    "        print(url_next_page)\n",
    "        response2 = req2.text\n",
    "        root2 = ET.fromstring(response2)\n",
    "        for i in range(20):\n",
    "            UID_list.append(root2[5][i].text.strip())\n",
    "    print(\"done\")\n",
    "    print(len(UID_list))\n",
    "remainder = count % 20\n",
    "url3 = url + \"&retstart=\"+str(count - 20)+\"&retmax=20\"\n",
    "req3 = requests.post(url3)\n",
    "print(url3)\n",
    "response3 = req3.text\n",
    "root3 = ET.fromstring(response3)\n",
    "for i in range(remainder):\n",
    "        UID_list.append(root3[5][i].text.strip())\n",
    "print(\"done\")\n",
    "print(len(UID_list))"
   ]
  },
  {
   "cell_type": "code",
   "execution_count": 14,
   "metadata": {},
   "outputs": [],
   "source": [
    "# Now the UID of each article is saved in 'UID_list'\n",
    "# UID is the identity of each article, we can use UID to get access to article's title, abstract ... \n",
    "# We can output the list into a CSV file\n",
    "\n",
    "with open('output.csv','w') as file:\n",
    "    for line in UID_list:\n",
    "        file.write(line)\n",
    "        file.write('\\n')"
   ]
  },
  {
   "cell_type": "code",
   "execution_count": null,
   "metadata": {},
   "outputs": [],
   "source": []
  }
 ],
 "metadata": {
  "kernelspec": {
   "display_name": "Python 3",
   "language": "python",
   "name": "python3"
  },
  "language_info": {
   "codemirror_mode": {
    "name": "ipython",
    "version": 3
   },
   "file_extension": ".py",
   "mimetype": "text/x-python",
   "name": "python",
   "nbconvert_exporter": "python",
   "pygments_lexer": "ipython3",
   "version": "3.7.2"
  }
 },
 "nbformat": 4,
 "nbformat_minor": 2
}
