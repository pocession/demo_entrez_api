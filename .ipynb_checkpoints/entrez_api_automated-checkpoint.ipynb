{
 "cells": [
  {
   "cell_type": "code",
   "execution_count": null,
   "metadata": {},
   "outputs": [],
   "source": [
    "# We can also use loop to automate the data retrieval process\n",
    "# import modulus required for sending http requests to NCBI server\n",
    "import requests\n",
    "\n",
    "# Download PubMed records with both th1 and th2 in titles and were also published in 2019.\n",
    "# like this: (th1[ti]) AND (th2[ti]) AND (2019[pdat]) \n",
    "\n",
    "db = 'pubmed';\n",
    "query = 'th1[ti]+AND+th2[ti]+AND+2019[pdat]';\n",
    "\n",
    "# Assemble the esearch URL\n",
    "base = 'https://eutils.ncbi.nlm.nih.gov/entrez/eutils/';\n",
    "url = base + \"esearch.fcgi?db=\"+db+\"&term=$\"+query+\"&WebEnv=$Webenv&usehistory=y\";\n",
    "print(url)\n",
    "\n",
    "# Send request to server\n",
    "# response is our returned data\n",
    "req = requests.get(url)\n",
    "response = req.text\n",
    "print(\"done\")\n",
    "\n",
    "# load ET module to parse xml\n",
    "import xml.etree.ElementTree as ET \n",
    "\n",
    "# put all data in a string and use Et module to parse it\n",
    "root = ET.fromstring(response)"
   ]
  }
 ],
 "metadata": {
  "kernelspec": {
   "display_name": "Python 3",
   "language": "python",
   "name": "python3"
  },
  "language_info": {
   "codemirror_mode": {
    "name": "ipython",
    "version": 3
   },
   "file_extension": ".py",
   "mimetype": "text/x-python",
   "name": "python",
   "nbconvert_exporter": "python",
   "pygments_lexer": "ipython3",
   "version": "3.7.2"
  }
 },
 "nbformat": 4,
 "nbformat_minor": 2
}
