{
 "cells": [
  {
   "cell_type": "code",
   "execution_count": 3,
   "metadata": {},
   "outputs": [
    {
     "name": "stdout",
     "output_type": "stream",
     "text": [
      "https://eutils.ncbi.nlm.nih.gov/entrez/eutils/esearch.fcgi?db=pubmed&term=$th1[ti]+AND+th2[ti]+AND+\"2009/08/10\"[PDat]:\"2019/08/07\"[PDat]&WebEnv=$Webenv&usehistory=y\n",
      "done\n"
     ]
    }
   ],
   "source": [
    "# We can also use loop to automate the data retrieval process\n",
    "# import modulus required for sending http requests to NCBI server\n",
    "import requests\n",
    "\n",
    "# Download PubMed records with both th1 and th2 in titles and were also published within recent 10 years.\n",
    "# like this: (th1[ti]) AND (th2[ti]) AND (\"2009/08/10\"[PDat] : \"2019/08/07\"[PDat])\n",
    "\n",
    "db = 'pubmed';\n",
    "query = 'th1[ti]+AND+th2[ti]+AND+\"2009/08/10\"[PDat]:\"2019/08/07\"[PDat]';\n",
    "\n",
    "# Assemble the esearch URL\n",
    "base = 'https://eutils.ncbi.nlm.nih.gov/entrez/eutils/';\n",
    "url = base + \"esearch.fcgi?db=\"+db+\"&term=$\"+query+\"&WebEnv=$Webenv&usehistory=y\";\n",
    "print(url)\n",
    "\n",
    "# Send request to server\n",
    "# response is our returned data\n",
    "req = requests.get(url)\n",
    "response = req.text\n",
    "print(\"done\")\n",
    "\n",
    "# load ET module to parse xml\n",
    "import xml.etree.ElementTree as ET \n",
    "\n",
    "# put all data in a string and use Et module to parse it\n",
    "root = ET.fromstring(response)"
   ]
  },
  {
   "cell_type": "code",
   "execution_count": 6,
   "metadata": {},
   "outputs": [
    {
     "name": "stdout",
     "output_type": "stream",
     "text": [
      "Count {}\n",
      "RetMax {}\n",
      "RetStart {}\n",
      "QueryKey {}\n",
      "WebEnv {}\n",
      "IdList {}\n",
      "TranslationSet {}\n",
      "TranslationStack {}\n",
      "QueryTranslation {}\n"
     ]
    }
   ],
   "source": [
    "# Print all attrib (or all tags of levels)\n",
    "\n",
    "for child in root:\n",
    "    print(child.tag, child.attrib)"
   ]
  },
  {
   "cell_type": "code",
   "execution_count": 14,
   "metadata": {},
   "outputs": [
    {
     "data": {
      "text/plain": [
       "969"
      ]
     },
     "execution_count": 14,
     "metadata": {},
     "output_type": "execute_result"
    }
   ],
   "source": [
    "# Get some ideas about how many data we retrieved this time\n",
    "\n",
    "count = int(root[0].text)\n",
    "count"
   ]
  },
  {
   "cell_type": "code",
   "execution_count": 28,
   "metadata": {},
   "outputs": [
    {
     "data": {
      "text/plain": [
       "['31371226',\n",
       " '31341902',\n",
       " '31331391',\n",
       " '31316629',\n",
       " '31316513',\n",
       " '31310707',\n",
       " '31297009',\n",
       " '31277476',\n",
       " '31262519',\n",
       " '31260744',\n",
       " '31244354',\n",
       " '31234191',\n",
       " '31231378',\n",
       " '31229590',\n",
       " '31227229',\n",
       " '31221948',\n",
       " '31214035',\n",
       " '31178059',\n",
       " '31177446',\n",
       " '31129375']"
      ]
     },
     "execution_count": 28,
     "metadata": {},
     "output_type": "execute_result"
    }
   ],
   "source": [
    "# Create a empty list to store retrieved UIDs\n",
    "\n",
    "UID_list = []\n",
    "for i in range(20):\n",
    "    UID_list.append(root[5][i].text.rstrip(''))\n",
    "UID_list\n"
   ]
  },
  {
   "cell_type": "code",
   "execution_count": null,
   "metadata": {},
   "outputs": [],
   "source": []
  }
 ],
 "metadata": {
  "kernelspec": {
   "display_name": "Python 3",
   "language": "python",
   "name": "python3"
  },
  "language_info": {
   "codemirror_mode": {
    "name": "ipython",
    "version": 3
   },
   "file_extension": ".py",
   "mimetype": "text/x-python",
   "name": "python",
   "nbconvert_exporter": "python",
   "pygments_lexer": "ipython3",
   "version": "3.7.2"
  }
 },
 "nbformat": 4,
 "nbformat_minor": 2
}
