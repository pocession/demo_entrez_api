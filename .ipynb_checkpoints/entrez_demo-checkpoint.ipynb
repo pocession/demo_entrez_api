{
 "cells": [
  {
   "cell_type": "code",
   "execution_count": 48,
   "metadata": {},
   "outputs": [
    {
     "name": "stdout",
     "output_type": "stream",
     "text": [
      "https://eutils.ncbi.nlm.nih.gov/entrez/eutils/esearch.fcgi?db=pubmed&term=$th1[ti]+AND+th2[ti]+AND+2019[pdat]&usehistory=y\n",
      "done\n"
     ]
    }
   ],
   "source": [
    "# Some practice for Entrez API\n",
    "# Load keywords from input and send query to Entrez API\n",
    "# Get formatted data in xml file\n",
    "\n",
    "import requests\n",
    "\n",
    "# Download PubMed records with both th1 and th2 in titles and were also published in 2019.\n",
    "# like this: (th1[ti]) AND (th2[ti]) AND (2019[pdat]) \n",
    "\n",
    "db = 'pubmed';\n",
    "query = 'th1[ti]+AND+th2[ti]+AND+2019[pdat]';\n",
    "\n",
    "# Assemble the esearch URL\n",
    "base = 'https://eutils.ncbi.nlm.nih.gov/entrez/eutils/';\n",
    "url = base + \"esearch.fcgi?db=\"+db+\"&term=$\"+query+\"&usehistory=y\";\n",
    "print(url)\n",
    "\n",
    "# Send request to server\n",
    "# response is our returned data\n",
    "req = requests.get(url)\n",
    "response = req.text\n",
    "print(\"done\")\n",
    "\n",
    "# load ET module to parse xml\n",
    "import xml.etree.ElementTree as ET \n",
    "\n",
    "# put all data in a string and use Et module to parse it\n",
    "root = ET.fromstring(response)"
   ]
  },
  {
   "cell_type": "code",
   "execution_count": 49,
   "metadata": {},
   "outputs": [
    {
     "data": {
      "text/plain": [
       "<Element 'eSearchResult' at 0x112145b38>"
      ]
     },
     "execution_count": 49,
     "metadata": {},
     "output_type": "execute_result"
    }
   ],
   "source": [
    "root"
   ]
  },
  {
   "cell_type": "code",
   "execution_count": 50,
   "metadata": {},
   "outputs": [
    {
     "data": {
      "text/plain": [
       "'eSearchResult'"
      ]
     },
     "execution_count": 50,
     "metadata": {},
     "output_type": "execute_result"
    }
   ],
   "source": [
    "root.tag"
   ]
  },
  {
   "cell_type": "code",
   "execution_count": 51,
   "metadata": {},
   "outputs": [
    {
     "name": "stdout",
     "output_type": "stream",
     "text": [
      "Count {}\n",
      "RetMax {}\n",
      "RetStart {}\n",
      "QueryKey {}\n",
      "WebEnv {}\n",
      "IdList {}\n",
      "TranslationSet {}\n",
      "TranslationStack {}\n",
      "QueryTranslation {}\n"
     ]
    }
   ],
   "source": [
    "# print all attrib (or all tags of levels)\n",
    "\n",
    "for child in root:\n",
    "    print(child.tag, child.attrib)"
   ]
  },
  {
   "cell_type": "code",
   "execution_count": null,
   "metadata": {},
   "outputs": [],
   "source": []
  }
 ],
 "metadata": {
  "kernelspec": {
   "display_name": "Python 3",
   "language": "python",
   "name": "python3"
  },
  "language_info": {
   "codemirror_mode": {
    "name": "ipython",
    "version": 3
   },
   "file_extension": ".py",
   "mimetype": "text/x-python",
   "name": "python",
   "nbconvert_exporter": "python",
   "pygments_lexer": "ipython3",
   "version": "3.7.2"
  }
 },
 "nbformat": 4,
 "nbformat_minor": 2
}
