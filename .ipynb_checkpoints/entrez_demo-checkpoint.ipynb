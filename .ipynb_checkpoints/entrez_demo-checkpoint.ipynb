{
 "cells": [
  {
   "cell_type": "code",
   "execution_count": 174,
   "metadata": {},
   "outputs": [
    {
     "name": "stdout",
     "output_type": "stream",
     "text": [
      "https://eutils.ncbi.nlm.nih.gov/entrez/eutils/esearch.fcgi?db=pubmed&term=$th1[ti]+AND+th2[ti]+AND+2019[pdat]&WebEnv=$Webenv&usehistory=y\n",
      "done\n"
     ]
    }
   ],
   "source": [
    "# Some practice for Entrez API\n",
    "# Load keywords from input and send query to Entrez API\n",
    "# Get formatted data in xml file\n",
    "\n",
    "import requests\n",
    "\n",
    "# Download PubMed records with both th1 and th2 in titles and were also published in 2019.\n",
    "# like this: (th1[ti]) AND (th2[ti]) AND (2019[pdat]) \n",
    "\n",
    "db = 'pubmed';\n",
    "query = 'th1[ti]+AND+th2[ti]+AND+2019[pdat]';\n",
    "\n",
    "# Assemble the esearch URL\n",
    "base = 'https://eutils.ncbi.nlm.nih.gov/entrez/eutils/';\n",
    "url = base + \"esearch.fcgi?db=\"+db+\"&term=$\"+query+\"&WebEnv=$Webenv&usehistory=y\";\n",
    "print(url)\n",
    "\n",
    "# Send request to server\n",
    "# response is our returned data\n",
    "req = requests.get(url)\n",
    "response = req.text\n",
    "print(\"done\")\n",
    "\n",
    "# load ET module to parse xml\n",
    "import xml.etree.ElementTree as ET \n",
    "\n",
    "# put all data in a string and use Et module to parse it\n",
    "root = ET.fromstring(response)"
   ]
  },
  {
   "cell_type": "code",
   "execution_count": 175,
   "metadata": {},
   "outputs": [
    {
     "data": {
      "text/plain": [
       "<Element 'eSearchResult' at 0x1121443b8>"
      ]
     },
     "execution_count": 175,
     "metadata": {},
     "output_type": "execute_result"
    }
   ],
   "source": [
    "root"
   ]
  },
  {
   "cell_type": "code",
   "execution_count": 176,
   "metadata": {},
   "outputs": [
    {
     "data": {
      "text/plain": [
       "'eSearchResult'"
      ]
     },
     "execution_count": 176,
     "metadata": {},
     "output_type": "execute_result"
    }
   ],
   "source": [
    "root.tag"
   ]
  },
  {
   "cell_type": "code",
   "execution_count": 177,
   "metadata": {},
   "outputs": [
    {
     "data": {
      "text/plain": [
       "{}"
      ]
     },
     "execution_count": 177,
     "metadata": {},
     "output_type": "execute_result"
    }
   ],
   "source": [
    "root.attrib"
   ]
  },
  {
   "cell_type": "code",
   "execution_count": 178,
   "metadata": {},
   "outputs": [
    {
     "name": "stdout",
     "output_type": "stream",
     "text": [
      "Count {}\n",
      "RetMax {}\n",
      "RetStart {}\n",
      "QueryKey {}\n",
      "WebEnv {}\n",
      "IdList {}\n",
      "TranslationSet {}\n",
      "TranslationStack {}\n",
      "QueryTranslation {}\n"
     ]
    }
   ],
   "source": [
    "# print all attrib (or all tags of levels)\n",
    "\n",
    "for child in root:\n",
    "    print(child.tag, child.attrib)"
   ]
  },
  {
   "cell_type": "code",
   "execution_count": 179,
   "metadata": {},
   "outputs": [
    {
     "data": {
      "text/plain": [
       "'57'"
      ]
     },
     "execution_count": 179,
     "metadata": {},
     "output_type": "execute_result"
    }
   ],
   "source": [
    "# Total data counts\n",
    "root[0].text"
   ]
  },
  {
   "cell_type": "code",
   "execution_count": 180,
   "metadata": {},
   "outputs": [
    {
     "data": {
      "text/plain": [
       "'20'"
      ]
     },
     "execution_count": 180,
     "metadata": {},
     "output_type": "execute_result"
    }
   ],
   "source": [
    "# How many data counts we retrived every time\n",
    "root[1].text"
   ]
  },
  {
   "cell_type": "code",
   "execution_count": 181,
   "metadata": {},
   "outputs": [
    {
     "data": {
      "text/plain": [
       "'0'"
      ]
     },
     "execution_count": 181,
     "metadata": {},
     "output_type": "execute_result"
    }
   ],
   "source": [
    "# In this case, we should have total 57 data and 20 data per page\n",
    "# Therefore, we have total three pages\n",
    "# Te retrived data will have an index (0-19) indicating data of the first page\n",
    "root[2].text"
   ]
  },
  {
   "cell_type": "code",
   "execution_count": 182,
   "metadata": {},
   "outputs": [
    {
     "name": "stdout",
     "output_type": "stream",
     "text": [
      "31371226\n",
      "31341902\n",
      "31331391\n",
      "31316629\n",
      "31316513\n",
      "31310707\n",
      "31297009\n",
      "31277476\n",
      "31262519\n",
      "31260744\n",
      "31244354\n",
      "31234191\n",
      "31231378\n",
      "31229590\n",
      "31227229\n",
      "31221948\n",
      "31214035\n",
      "31178059\n",
      "31177446\n",
      "31129375\n"
     ]
    }
   ],
   "source": [
    "# Print Id of each article of the first page (again, 20 data per page)\n",
    "\n",
    "for i in range(20):\n",
    " print(root[5][i].text)"
   ]
  },
  {
   "cell_type": "code",
   "execution_count": 200,
   "metadata": {},
   "outputs": [
    {
     "name": "stdout",
     "output_type": "stream",
     "text": [
      "https://eutils.ncbi.nlm.nih.gov/entrez/eutils/esearch.fcgi?db=pubmed&term=$th1[ti]+AND+th2[ti]+AND+2019[pdat]&WebEnv=$Webenv&usehistory=y&retstart=20&retmax=20\n",
      "done\n"
     ]
    }
   ],
   "source": [
    "# get data of page2\n",
    "# Index of data in page2 will be 20-39\n",
    "\n",
    "url2 = url + \"&retstart=20&retmax=20\";\n",
    "print(url2)\n",
    "req2 = requests.get(url2)\n",
    "response2 = req2.text\n",
    "\n",
    "# put all data in a string and use ET module to parse it\n",
    "root2 = ET.fromstring(response2)\n",
    "print(\"done\")"
   ]
  },
  {
   "cell_type": "code",
   "execution_count": 201,
   "metadata": {},
   "outputs": [
    {
     "name": "stdout",
     "output_type": "stream",
     "text": [
      "Count {}\n",
      "RetMax {}\n",
      "RetStart {}\n",
      "QueryKey {}\n",
      "WebEnv {}\n",
      "IdList {}\n",
      "TranslationSet {}\n",
      "TranslationStack {}\n",
      "QueryTranslation {}\n"
     ]
    }
   ],
   "source": [
    "# print all attrib (or all tags of levels)\n",
    "\n",
    "for child in root2:\n",
    "    print(child.tag, child.attrib)"
   ]
  },
  {
   "cell_type": "code",
   "execution_count": 202,
   "metadata": {},
   "outputs": [
    {
     "data": {
      "text/plain": [
       "'57'"
      ]
     },
     "execution_count": 202,
     "metadata": {},
     "output_type": "execute_result"
    }
   ],
   "source": [
    "root2[0].text"
   ]
  },
  {
   "cell_type": "code",
   "execution_count": 203,
   "metadata": {},
   "outputs": [
    {
     "data": {
      "text/plain": [
       "'20'"
      ]
     },
     "execution_count": 203,
     "metadata": {},
     "output_type": "execute_result"
    }
   ],
   "source": [
    "root2[1].text"
   ]
  },
  {
   "cell_type": "code",
   "execution_count": 204,
   "metadata": {},
   "outputs": [
    {
     "data": {
      "text/plain": [
       "'20'"
      ]
     },
     "execution_count": 204,
     "metadata": {},
     "output_type": "execute_result"
    }
   ],
   "source": [
    "root2[2].text"
   ]
  },
  {
   "cell_type": "code",
   "execution_count": 207,
   "metadata": {},
   "outputs": [
    {
     "name": "stdout",
     "output_type": "stream",
     "text": [
      "31122908\n",
      "31093011\n",
      "31024043\n",
      "31019160\n",
      "31016523\n",
      "30974054\n",
      "30947977\n",
      "30945491\n",
      "30924169\n",
      "30904436\n",
      "30889402\n",
      "30884431\n",
      "30856346\n",
      "30848408\n",
      "30837040\n",
      "30824840\n",
      "30814543\n",
      "30813927\n",
      "30804001\n",
      "30771740\n"
     ]
    }
   ],
   "source": [
    "# Print Id of each article of the second page (again, 20 data per page)\n",
    "\n",
    "for i in range(20):\n",
    " print(root2[5][i].text)"
   ]
  },
  {
   "cell_type": "code",
   "execution_count": 209,
   "metadata": {},
   "outputs": [
    {
     "name": "stdout",
     "output_type": "stream",
     "text": [
      "https://eutils.ncbi.nlm.nih.gov/entrez/eutils/esearch.fcgi?db=pubmed&term=$th1[ti]+AND+th2[ti]+AND+2019[pdat]&WebEnv=$Webenv&usehistory=y&retstart=40&retmax=20\n",
      "done\n"
     ]
    }
   ],
   "source": [
    "# get data of page3\n",
    "# Index of data in page3 will be 40-56\n",
    "\n",
    "url3 = url + \"&retstart=40&retmax=20\";\n",
    "print(url3)\n",
    "req3 = requests.get(url3)\n",
    "response3 = req3.text\n",
    "\n",
    "# put all data in a string and use ET module to parse it\n",
    "root3 = ET.fromstring(response3)\n",
    "print(\"done\")"
   ]
  },
  {
   "cell_type": "code",
   "execution_count": 211,
   "metadata": {},
   "outputs": [
    {
     "name": "stdout",
     "output_type": "stream",
     "text": [
      "30742635\n",
      "30703651\n",
      "30681265\n",
      "30668435\n",
      "30651758\n",
      "30642265\n",
      "30629982\n",
      "30589483\n",
      "30587599\n",
      "30576916\n",
      "30484290\n",
      "30415531\n",
      "30389471\n",
      "30308394\n",
      "30246383\n",
      "30223113\n",
      "30047012\n"
     ]
    }
   ],
   "source": [
    "# Print Id of each article of the second page (now, 17 data per page)\n",
    "\n",
    "for i in range(17):\n",
    " print(root3[5][i].text)"
   ]
  },
  {
   "cell_type": "code",
   "execution_count": null,
   "metadata": {},
   "outputs": [],
   "source": []
  }
 ],
 "metadata": {
  "kernelspec": {
   "display_name": "Python 3",
   "language": "python",
   "name": "python3"
  },
  "language_info": {
   "codemirror_mode": {
    "name": "ipython",
    "version": 3
   },
   "file_extension": ".py",
   "mimetype": "text/x-python",
   "name": "python",
   "nbconvert_exporter": "python",
   "pygments_lexer": "ipython3",
   "version": "3.7.2"
  }
 },
 "nbformat": 4,
 "nbformat_minor": 2
}
